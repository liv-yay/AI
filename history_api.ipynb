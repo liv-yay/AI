{
  "nbformat": 4,
  "nbformat_minor": 0,
  "metadata": {
    "colab": {
      "provenance": [],
      "authorship_tag": "ABX9TyMFinUS1dbksav3dGt7jSkV",
      "include_colab_link": true
    },
    "kernelspec": {
      "name": "python3",
      "display_name": "Python 3"
    },
    "language_info": {
      "name": "python"
    }
  },
  "cells": [
    {
      "cell_type": "markdown",
      "metadata": {
        "id": "view-in-github",
        "colab_type": "text"
      },
      "source": [
        "<a href=\"https://colab.research.google.com/github/liv-yay/AI/blob/main/history_api.ipynb\" target=\"_parent\"><img src=\"https://colab.research.google.com/assets/colab-badge.svg\" alt=\"Open In Colab\"/></a>"
      ]
    },
    {
      "cell_type": "code",
      "execution_count": 1,
      "metadata": {
        "colab": {
          "base_uri": "https://localhost:8080/",
          "height": 144
        },
        "id": "KF6ZVovHZumQ",
        "outputId": "08c8d4db-c33a-4042-c87e-3fd2d13ec94c"
      },
      "outputs": [
        {
          "output_type": "stream",
          "name": "stdout",
          "text": [
            "Please provide me with the content of the PDF file (`$<path>/document0.pdf`). I need the actual text content of the PDF to analyze it and provide you with a summary of your time usage, most accessed content, quantity of use, and type of website. \n",
            "\n",
            "For example, you can copy and paste the text from the PDF or use a PDF to text converter tool. \n",
            "\n",
            "Once I have the content, I can help you understand your browsing habits better. \n",
            "\n"
          ]
        }
      ],
      "source": [
        "\"\"\"\n",
        "At the command line, only need to run once to install the package via pip:\n",
        "\n",
        "$ pip install google-generativeai\n",
        "\"\"\"\n",
        "\n",
        "from pathlib import Path\n",
        "import hashlib\n",
        "import google.generativeai as genai\n",
        "\n",
        "from google.colab import userdata\n",
        "API_KEY = userdata.get(\"SECRET_KEY\")\n",
        "\n",
        "genai.configure(api_key=API_KEY)\n",
        "\n",
        "# Set up the model\n",
        "generation_config = {\n",
        "  \"temperature\": 1,\n",
        "  \"top_p\": 0.95,\n",
        "  \"top_k\": 0,\n",
        "  \"max_output_tokens\": 8192,\n",
        "}\n",
        "\n",
        "safety_settings = [\n",
        "  {\n",
        "    \"category\": \"HARM_CATEGORY_HARASSMENT\",\n",
        "    \"threshold\": \"BLOCK_MEDIUM_AND_ABOVE\"\n",
        "  },\n",
        "  {\n",
        "    \"category\": \"HARM_CATEGORY_HATE_SPEECH\",\n",
        "    \"threshold\": \"BLOCK_MEDIUM_AND_ABOVE\"\n",
        "  },\n",
        "  {\n",
        "    \"category\": \"HARM_CATEGORY_SEXUALLY_EXPLICIT\",\n",
        "    \"threshold\": \"BLOCK_MEDIUM_AND_ABOVE\"\n",
        "  },\n",
        "  {\n",
        "    \"category\": \"HARM_CATEGORY_DANGEROUS_CONTENT\",\n",
        "    \"threshold\": \"BLOCK_MEDIUM_AND_ABOVE\"\n",
        "  },\n",
        "]\n",
        "\n",
        "model = genai.GenerativeModel(model_name=\"gemini-1.5-pro-latest\",\n",
        "                              generation_config=generation_config,\n",
        "                              safety_settings=safety_settings)\n",
        "\n",
        "uploaded_files = []\n",
        "def upload_if_needed(pathname: str) -> list[str]:\n",
        "  path = Path(pathname)\n",
        "  hash_id = hashlib.sha256(path.read_bytes()).hexdigest()\n",
        "  try:\n",
        "    existing_file = genai.get_file(name=hash_id)\n",
        "    return [existing_file.uri]\n",
        "  except:\n",
        "    pass\n",
        "  uploaded_files.append(genai.upload_file(path=path, display_name=hash_id))\n",
        "  return [uploaded_files[-1].uri]\n",
        "\n",
        "def extract_pdf_pages(pathname: str) -> list[str]:\n",
        "  parts = [f\"--- START OF PDF ${pathname} ---\"]\n",
        "  # Add logic to read the PDF and return a list of pages here.\n",
        "  pages = []\n",
        "  for index, page in enumerate(pages):\n",
        "    parts.append(f\"--- PAGE {index} ---\")\n",
        "    parts.append(page)\n",
        "  return parts\n",
        "\n",
        "convo = model.start_chat(history=[\n",
        "  {\n",
        "    \"role\": \"user\",\n",
        "    \"parts\": extract_pdf_pages(\"<path>/document0.pdf\")\n",
        "  },\n",
        "  {\n",
        "    \"role\": \"user\",\n",
        "    \"parts\": [\" Considere o conteúdo do arquivo e tire conclusões sobre como tem-se usado o tempo, criando um resumo do que mais se acessa, quantidade de uso e tipo de site;\"]\n",
        "  },\n",
        "  {\n",
        "    \"role\": \"model\",\n",
        "    \"parts\": [\"## Análise do histórico de navegação:\\n\\nApós analisar o seu histórico de navegação, algumas conclusões podem ser tiradas sobre como você tem utilizado o seu tempo online:\\n\\n**Principais sites/aplicativos acessados:**\\n\\n* **Gmail:** O Gmail é o site mais acessado, com 360 visitas registradas. Isso sugere que o email é uma ferramenta fundamental para a sua comunicação e organização.\\n* **Gemini:** O Gemini também aparece com frequência no histórico, com um total de 44 visitas. Isso indica um interesse crescente em explorar as funcionalidades dessa nova IA do Google. \\n* **ChatGPT:** O ChatGPT aparece com 31 visitas, o que demonstra um interesse em explorar diferentes IAs e suas capacidades.\\n* **Google Calendar:** O Google Calendar é outra ferramenta bastante utilizada, com 29 visitas, sugerindo uma preocupação com organização e gerenciamento de tempo. \\n* **Droga Raia:** A Droga Raia aparece com 202 visitas, indicando um uso frequente da plataforma para compras de medicamentos e produtos de beleza.\\n* **Club Med:** O Club Med aparece com 182 visitas, sugerindo um possível planejamento de viagem ou interesse em resorts all inclusive. \\n* **SAP Community & Learning Hub:** Diversos sites relacionados ao SAP, como a comunidade e o Learning Hub, foram acessados (com mais de 200 visitas combinadas), indicando um possível envolvimento profissional com esse software.\\n* **Sites de notícias:** Há um consumo frequente de notícias de diferentes fontes, incluindo CNN Brasil, Exame, O Globo, Estado de Minas, etc., demonstrando um interesse em se manter informado sobre atualidades. \\n\\n**Quantidade de uso:**\\n\\n* A maioria das visitas são a sites e aplicativos de produtividade e organização, o que sugere um foco em gerenciar o seu tempo e tarefas.\\n* O consumo de notícias e conteúdo relacionado a IA indica um interesse em se manter atualizado sobre as últimas tendências tecnológicas.\\n* As compras online na Droga Raia e o planejamento de viagens no Club Med demonstram a utilização da internet para facilitar tarefas do dia a dia e lazer.\\n* A presença de sites relacionados ao SAP sugere um possível interesse profissional ou necessidade de se manter atualizado sobre o software.\\n\\n**Tipo de site:**\\n\\n* **Produtividade e organização:** Gmail, Google Calendar, Notion, Trello.\\n* **IA e tecnologia:** Gemini, ChatGPT, Google AI Studio, artigos sobre IA.\\n* **Compras online:** Droga Raia, Amazon, Mercado Livre, KaBuM!.\\n* **Viagens e lazer:** Club Med, Booking, sites de resorts.\\n* **Notícias e informação:** CNN Brasil, Exame, O Globo, Estado de Minas, etc.\\n* **Profissional:** SAP Community, SAP Learning Hub, Glassdoor, Indeed.\\n\\n**Observações adicionais:**\\n\\n* Há várias visitas duplicadas ao mesmo site, o que pode indicar que você precisou recarregar a página ou acessá-la por diferentes caminhos.\\n* O uso de ferramentas de automação como o AutoHotkey e o TextExpander indica uma busca por otimização do seu tempo e produtividade.\\n* O interesse em notícias sobre IA e a exploração de diferentes ferramentas de IA sugerem um possível interesse em se aprofundar nesse campo. \\n\\n## Conclusão:\\n\\nO seu histórico de navegação demonstra um uso diversificado da internet, com um foco em produtividade, organização, informação e tecnologia. O seu interesse em IA é evidente, e você parece estar explorando ativamente as diferentes ferramentas e recursos disponíveis.\"]\n",
        "  },\n",
        "])\n",
        "\n",
        "convo.send_message(\"YOUR_USER_INPUT\")\n",
        "print(convo.last.text)\n",
        "for uploaded_file in uploaded_files:\n",
        "  genai.delete_file(name=uploaded_file.name)"
      ]
    }
  ]
}